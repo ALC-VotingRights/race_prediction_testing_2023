{
 "cells": [
  {
   "cell_type": "markdown",
   "id": "3d92050f-e5d0-4a7c-a192-647ac03206ef",
   "metadata": {
    "tags": []
   },
   "source": [
    "# Testing Race Prediction Methods on Georgia Voter List\n",
    "Chris Iyer, 1/4/2023"
   ]
  },
  {
   "cell_type": "code",
   "execution_count": 1,
   "id": "6eb4b826-c13e-486a-a6ef-3ad8a68655dc",
   "metadata": {},
   "outputs": [
    {
     "name": "stderr",
     "output_type": "stream",
     "text": [
      "2023-01-18 09:03:01.392989: I tensorflow/core/platform/cpu_feature_guard.cc:193] This TensorFlow binary is optimized with oneAPI Deep Neural Network Library (oneDNN) to use the following CPU instructions in performance-critical operations:  AVX2 FMA\n",
      "To enable them in other operations, rebuild TensorFlow with the appropriate compiler flags.\n"
     ]
    }
   ],
   "source": [
    "# load libraries\n",
    "import pandas as pd\n",
    "import numpy as np\n",
    "from ethnicolr import census_ln, pred_census_ln, pred_wiki_ln, pred_wiki_name, pred_fl_reg_name, pred_fl_reg_name_five_cat, pred_nc_reg_name"
   ]
  },
  {
   "cell_type": "code",
   "execution_count": 2,
   "id": "53ff9d4f-8b70-440c-a871-8b5e1f69927e",
   "metadata": {},
   "outputs": [
    {
     "name": "stderr",
     "output_type": "stream",
     "text": [
      "/var/folders/pk/gzrf4tdx63z9zpmhrhlg4w_w0000gn/T/ipykernel_14891/749252245.py:2: DtypeWarning: Columns (16) have mixed types. Specify dtype option on import or set low_memory=False.\n",
      "  df = pd.read_csv('/Users/chrisiyer/_Current/alc/_TX voters/GAlist_merged_nonan.csv')\n"
     ]
    }
   ],
   "source": [
    "# load merged 2020 and 2022 voter name + race files (merged and saved in other code)\n",
    "fpath = '/Users/chrisiyer/_Current/alc/_TX voters/'\n",
    "df = pd.read_csv(fpath+'GAlist_merged_nonan.csv')"
   ]
  },
  {
   "cell_type": "code",
   "execution_count": 3,
   "id": "e81d773b-522f-432b-8a06-b8c5580e9300",
   "metadata": {},
   "outputs": [],
   "source": [
    "include_other = False\n",
    "\n",
    "if (not include_other):\n",
    "    df = df[df.RACE != 'OT']"
   ]
  },
  {
   "cell_type": "code",
   "execution_count": 4,
   "id": "4fdb531b-5266-4abc-9c88-08209b7d0349",
   "metadata": {},
   "outputs": [
    {
     "data": {
      "text/plain": [
       "array(['WH', 'HP', 'BH', 'AP', 'AI'], dtype=object)"
      ]
     },
     "execution_count": 4,
     "metadata": {},
     "output_type": "execute_result"
    }
   ],
   "source": [
    "df.RACE.unique()"
   ]
  },
  {
   "cell_type": "code",
   "execution_count": 5,
   "id": "d2ba66d3-6d2a-46cc-a992-f70cb39384e3",
   "metadata": {},
   "outputs": [
    {
     "data": {
      "text/html": [
       "<div>\n",
       "<style scoped>\n",
       "    .dataframe tbody tr th:only-of-type {\n",
       "        vertical-align: middle;\n",
       "    }\n",
       "\n",
       "    .dataframe tbody tr th {\n",
       "        vertical-align: top;\n",
       "    }\n",
       "\n",
       "    .dataframe thead th {\n",
       "        text-align: right;\n",
       "    }\n",
       "</style>\n",
       "<table border=\"1\" class=\"dataframe\">\n",
       "  <thead>\n",
       "    <tr style=\"text-align: right;\">\n",
       "      <th></th>\n",
       "      <th>FIRST_NAME</th>\n",
       "      <th>LAST_NAME</th>\n",
       "      <th>RACE</th>\n",
       "    </tr>\n",
       "  </thead>\n",
       "  <tbody>\n",
       "    <tr>\n",
       "      <th>0</th>\n",
       "      <td>SWAYNE</td>\n",
       "      <td>CARLAN</td>\n",
       "      <td>WH</td>\n",
       "    </tr>\n",
       "    <tr>\n",
       "      <th>1</th>\n",
       "      <td>RONNIE</td>\n",
       "      <td>CAGLE</td>\n",
       "      <td>WH</td>\n",
       "    </tr>\n",
       "    <tr>\n",
       "      <th>2</th>\n",
       "      <td>LINTON</td>\n",
       "      <td>COCHRAN</td>\n",
       "      <td>WH</td>\n",
       "    </tr>\n",
       "    <tr>\n",
       "      <th>3</th>\n",
       "      <td>HENRIETTA</td>\n",
       "      <td>DORSEY</td>\n",
       "      <td>WH</td>\n",
       "    </tr>\n",
       "    <tr>\n",
       "      <th>4</th>\n",
       "      <td>JOHNNY</td>\n",
       "      <td>LEWALLEN</td>\n",
       "      <td>WH</td>\n",
       "    </tr>\n",
       "    <tr>\n",
       "      <th>...</th>\n",
       "      <td>...</td>\n",
       "      <td>...</td>\n",
       "      <td>...</td>\n",
       "    </tr>\n",
       "    <tr>\n",
       "      <th>9062728</th>\n",
       "      <td>CAYDEN</td>\n",
       "      <td>CRIDER</td>\n",
       "      <td>WH</td>\n",
       "    </tr>\n",
       "    <tr>\n",
       "      <th>9062729</th>\n",
       "      <td>CLARISSA</td>\n",
       "      <td>CRIDER</td>\n",
       "      <td>WH</td>\n",
       "    </tr>\n",
       "    <tr>\n",
       "      <th>9062730</th>\n",
       "      <td>MATTHEW</td>\n",
       "      <td>CRIDER</td>\n",
       "      <td>WH</td>\n",
       "    </tr>\n",
       "    <tr>\n",
       "      <th>9062731</th>\n",
       "      <td>JOANNE</td>\n",
       "      <td>CUSTANCE-SMITH</td>\n",
       "      <td>WH</td>\n",
       "    </tr>\n",
       "    <tr>\n",
       "      <th>9062732</th>\n",
       "      <td>ASHLEY</td>\n",
       "      <td>DANEMAN</td>\n",
       "      <td>WH</td>\n",
       "    </tr>\n",
       "  </tbody>\n",
       "</table>\n",
       "<p>8864092 rows × 3 columns</p>\n",
       "</div>"
      ],
      "text/plain": [
       "        FIRST_NAME       LAST_NAME RACE\n",
       "0           SWAYNE          CARLAN   WH\n",
       "1           RONNIE           CAGLE   WH\n",
       "2           LINTON         COCHRAN   WH\n",
       "3        HENRIETTA          DORSEY   WH\n",
       "4           JOHNNY        LEWALLEN   WH\n",
       "...            ...             ...  ...\n",
       "9062728     CAYDEN          CRIDER   WH\n",
       "9062729   CLARISSA          CRIDER   WH\n",
       "9062730    MATTHEW          CRIDER   WH\n",
       "9062731     JOANNE  CUSTANCE-SMITH   WH\n",
       "9062732     ASHLEY         DANEMAN   WH\n",
       "\n",
       "[8864092 rows x 3 columns]"
      ]
     },
     "execution_count": 5,
     "metadata": {},
     "output_type": "execute_result"
    }
   ],
   "source": [
    "df = df[['FIRST_NAME', 'LAST_NAME', 'RACE']]\n",
    "df"
   ]
  },
  {
   "cell_type": "code",
   "execution_count": 14,
   "id": "27a534fd-1a25-499a-92da-aab0a65adb37",
   "metadata": {},
   "outputs": [
    {
     "data": {
      "text/html": [
       "<div>\n",
       "<style scoped>\n",
       "    .dataframe tbody tr th:only-of-type {\n",
       "        vertical-align: middle;\n",
       "    }\n",
       "\n",
       "    .dataframe tbody tr th {\n",
       "        vertical-align: top;\n",
       "    }\n",
       "\n",
       "    .dataframe thead th {\n",
       "        text-align: right;\n",
       "    }\n",
       "</style>\n",
       "<table border=\"1\" class=\"dataframe\">\n",
       "  <thead>\n",
       "    <tr style=\"text-align: right;\">\n",
       "      <th></th>\n",
       "      <th>pr_surname</th>\n",
       "      <th>pr_firstname</th>\n",
       "      <th>pr_avg</th>\n",
       "      <th>wru_surname</th>\n",
       "    </tr>\n",
       "  </thead>\n",
       "  <tbody>\n",
       "    <tr>\n",
       "      <th>0</th>\n",
       "      <td>WH</td>\n",
       "      <td>OT</td>\n",
       "      <td>WH</td>\n",
       "      <td>WH</td>\n",
       "    </tr>\n",
       "    <tr>\n",
       "      <th>1</th>\n",
       "      <td>WH</td>\n",
       "      <td>WH</td>\n",
       "      <td>WH</td>\n",
       "      <td>WH</td>\n",
       "    </tr>\n",
       "    <tr>\n",
       "      <th>2</th>\n",
       "      <td>WH</td>\n",
       "      <td>OT</td>\n",
       "      <td>WH</td>\n",
       "      <td>WH</td>\n",
       "    </tr>\n",
       "    <tr>\n",
       "      <th>3</th>\n",
       "      <td>BH</td>\n",
       "      <td>WH</td>\n",
       "      <td>WH</td>\n",
       "      <td>BH</td>\n",
       "    </tr>\n",
       "    <tr>\n",
       "      <th>4</th>\n",
       "      <td>WH</td>\n",
       "      <td>WH</td>\n",
       "      <td>WH</td>\n",
       "      <td>WH</td>\n",
       "    </tr>\n",
       "    <tr>\n",
       "      <th>...</th>\n",
       "      <td>...</td>\n",
       "      <td>...</td>\n",
       "      <td>...</td>\n",
       "      <td>...</td>\n",
       "    </tr>\n",
       "    <tr>\n",
       "      <th>8864087</th>\n",
       "      <td>WH</td>\n",
       "      <td>OT</td>\n",
       "      <td>WH</td>\n",
       "      <td>WH</td>\n",
       "    </tr>\n",
       "    <tr>\n",
       "      <th>8864088</th>\n",
       "      <td>WH</td>\n",
       "      <td>WH</td>\n",
       "      <td>WH</td>\n",
       "      <td>WH</td>\n",
       "    </tr>\n",
       "    <tr>\n",
       "      <th>8864089</th>\n",
       "      <td>WH</td>\n",
       "      <td>WH</td>\n",
       "      <td>WH</td>\n",
       "      <td>WH</td>\n",
       "    </tr>\n",
       "    <tr>\n",
       "      <th>8864090</th>\n",
       "      <td>OT</td>\n",
       "      <td>WH</td>\n",
       "      <td>WH</td>\n",
       "      <td>WH</td>\n",
       "    </tr>\n",
       "    <tr>\n",
       "      <th>8864091</th>\n",
       "      <td>WH</td>\n",
       "      <td>WH</td>\n",
       "      <td>WH</td>\n",
       "      <td>WH</td>\n",
       "    </tr>\n",
       "  </tbody>\n",
       "</table>\n",
       "<p>8864092 rows × 4 columns</p>\n",
       "</div>"
      ],
      "text/plain": [
       "        pr_surname pr_firstname pr_avg wru_surname\n",
       "0               WH           OT     WH          WH\n",
       "1               WH           WH     WH          WH\n",
       "2               WH           OT     WH          WH\n",
       "3               BH           WH     WH          BH\n",
       "4               WH           WH     WH          WH\n",
       "...            ...          ...    ...         ...\n",
       "8864087         WH           OT     WH          WH\n",
       "8864088         WH           WH     WH          WH\n",
       "8864089         WH           WH     WH          WH\n",
       "8864090         OT           WH     WH          WH\n",
       "8864091         WH           WH     WH          WH\n",
       "\n",
       "[8864092 rows x 4 columns]"
      ]
     },
     "execution_count": 14,
     "metadata": {},
     "output_type": "execute_result"
    }
   ],
   "source": [
    "preds = pd.read_csv(fpath+ 'GA_predictions.csv')\n",
    "preds"
   ]
  },
  {
   "cell_type": "markdown",
   "id": "f53bbdf8-c469-49cc-b455-3b9443297676",
   "metadata": {
    "tags": []
   },
   "source": [
    "## Functions to use throughout"
   ]
  },
  {
   "cell_type": "code",
   "execution_count": 10,
   "id": "861a7243-a826-487a-a374-d34742372890",
   "metadata": {},
   "outputs": [],
   "source": [
    "# sensitivity (#asian_correct / #total_asian) and PPV (#asian_correct / #total_pred_asian)\n",
    "def results(preds, truth):\n",
    "    for race in np.unique(preds):\n",
    "        if race != 'OT':\n",
    "            corr = sum(np.logical_and([i==race for i in preds], [i==race for i in truth]))\n",
    "            sens = corr / truth.value_counts()[race]\n",
    "            ppv = corr / preds.count(race)\n",
    "            print(f'Race: {race}, Sensitivity: {round(sens,4)}, PPV: {round(ppv,4)}')"
   ]
  },
  {
   "cell_type": "code",
   "execution_count": 11,
   "id": "0140b5d6-b364-4040-8e62-e8551fed68f1",
   "metadata": {},
   "outputs": [],
   "source": [
    "def reform_census(preds):\n",
    "    d = {'white': 'WH',\n",
    "         'black': 'BH',\n",
    "         'api': 'AP',\n",
    "         'hispanic': 'HP',\n",
    "         'aian': 'AI',\n",
    "         '2prace': 'OT'}\n",
    "    return [d[i] for i in preds]\n",
    "\n",
    "def reform_wiki(preds):\n",
    "    d = {\n",
    "        \"Asian,GreaterEastAsian,EastAsian\": \"AP\", \n",
    "        \"Asian,GreaterEastAsian,Japanese\": \"AP\", \n",
    "        \"Asian,IndianSubContinent\": \"AP\", \n",
    "        \"GreaterAfrican,Africans\": \"BH\", \n",
    "        \"GreaterAfrican,Muslim\": \"BH\", \n",
    "        \"GreaterEuropean,British\": \"WH\",\n",
    "        \"GreaterEuropean,EastEuropean\": \"WH\", \n",
    "        \"GreaterEuropean,Jewish\": \"WH\",\n",
    "        \"GreaterEuropean,WestEuropean,French\": \"WH\", \n",
    "        \"GreaterEuropean,WestEuropean,Germanic\": \"WH\",\n",
    "        \"GreaterEuropean,WestEuropean,Hispanic\": \"HP\", \n",
    "        \"GreaterEuropean,WestEuropean,Italian\": \"WH\",\n",
    "        \"GreaterEuropean,WestEuropean,Nordic\": \"WH\"}\n",
    "    return [d[i] for i in preds]\n",
    "\n",
    "def reform_fl(preds):\n",
    "    d = {\n",
    "        'asian': 'AP',\n",
    "        'hispanic': 'HP',\n",
    "        'nh_black': 'BH',\n",
    "        'nh_white': 'WH',\n",
    "        'other': 'OT'\n",
    "    }\n",
    "    return [d[i] for i in preds]\n",
    "\n",
    "def reform_nc(preds):\n",
    "    d = {\n",
    "        'HL+A': 'HP', \n",
    "        'HL+B': 'HP', \n",
    "        'HL+I': 'HP',\n",
    "        'HL+M': 'HP', \n",
    "        'HL+O': 'HP', \n",
    "        'HL+W': 'HP', \n",
    "        'NL+A': 'AP', \n",
    "        'NL+B': 'BH',\n",
    "        'NL+I': 'AI', \n",
    "        'NL+M': 'OT', \n",
    "        'NL+O': 'OT', \n",
    "        'NL+W': 'WH'\n",
    "    }\n",
    "    return [d[i] for i in preds]\n",
    "\n",
    "def reform_nc2(preds):\n",
    "    d = {\n",
    "        'HL+A': 'AP', \n",
    "        'HL+B': 'BH', \n",
    "        'HL+I': 'AI',\n",
    "        'HL+M': 'OT', \n",
    "        'HL+O': 'OT', \n",
    "        'HL+W': 'WH', \n",
    "        'NL+A': 'AP', \n",
    "        'NL+B': 'BH',\n",
    "        'NL+I': 'AI', \n",
    "        'NL+M': 'OT', \n",
    "        'NL+O': 'OT', \n",
    "        'NL+W': 'WH'\n",
    "    }\n",
    "    return [d[i] for i in preds]\n",
    "    "
   ]
  },
  {
   "cell_type": "markdown",
   "id": "b85a57ad-d1fe-4d85-8796-f65d4b075d98",
   "metadata": {
    "tags": []
   },
   "source": [
    "## Ethnicolr race predictions"
   ]
  },
  {
   "cell_type": "markdown",
   "id": "c33bd8f8-e791-45c0-b991-be0d8deae187",
   "metadata": {
    "tags": []
   },
   "source": [
    "1. Census models (pred_census_ln) - predict using 2000 and 2010 census data (last name only). Only gives (white, black, asian, hispanic)"
   ]
  },
  {
   "cell_type": "code",
   "execution_count": 17,
   "id": "d35ad82c-be3d-46d5-83e3-604d8985f8b0",
   "metadata": {},
   "outputs": [],
   "source": [
    "preds1a = np.array([])\n",
    "preds1b = np.array([])\n",
    "for floor in range(0,8900000,100000):\n",
    "    ceil= min(len(df)+1, floor+100000) \n",
    "    preds1a = np.append(preds1a, pred_census_ln(df.iloc[floor:ceil,:].copy(), 'LAST_NAME', year=2000, num_iter = 1)['race'])\n",
    "    preds1b = np.append(preds1b, pred_census_ln(df.iloc[floor:ceil,:].copy(), 'LAST_NAME', year=2010, num_iter = 1)['race'])\n",
    "    "
   ]
  },
  {
   "cell_type": "code",
   "execution_count": 18,
   "id": "5b563ff4-e42f-4cdf-9a4c-7568d1583bfe",
   "metadata": {},
   "outputs": [],
   "source": [
    "# convert verbiage\n",
    "preds1a_alt = reform_census(preds1a)\n",
    "preds1b_alt = reform_census(preds1b)"
   ]
  },
  {
   "cell_type": "code",
   "execution_count": 19,
   "id": "9d697669-e63d-418f-a0de-094a6a2aba1e",
   "metadata": {},
   "outputs": [
    {
     "name": "stdout",
     "output_type": "stream",
     "text": [
      "2000 model:\n",
      "Race: AP, Sensitivity: 0.5918, PPV: 0.7985\n",
      "Race: BH, Sensitivity: 0.0455, PPV: 0.7334\n",
      "Race: HP, Sensitivity: 0.7572, PPV: 0.6894\n",
      "Race: WH, Sensitivity: 0.9703, PPV: 0.6238\n",
      "2010 model:\n",
      "Race: AP, Sensitivity: 0.5918, PPV: 0.7985\n",
      "Race: BH, Sensitivity: 0.0455, PPV: 0.7334\n",
      "Race: HP, Sensitivity: 0.7572, PPV: 0.6894\n",
      "Race: WH, Sensitivity: 0.9703, PPV: 0.6238\n"
     ]
    }
   ],
   "source": [
    "# get accuracy\n",
    "print('2000 model:')\n",
    "results(preds1a_alt, df.RACE)\n",
    "print('2010 model:')\n",
    "results(preds1b_alt, df.RACE)"
   ]
  },
  {
   "cell_type": "code",
   "execution_count": 20,
   "id": "c5abbe78-9af8-4954-9398-231149b13c61",
   "metadata": {},
   "outputs": [],
   "source": [
    "preds['et_census_2000'] = preds1a_alt\n",
    "preds['et_census_2010'] = preds1b_alt"
   ]
  },
  {
   "cell_type": "markdown",
   "id": "cb9afaa3-9086-45e7-ae7e-49fb68d5ffcc",
   "metadata": {},
   "source": [
    "2. Wiki models (pred_wiki_ln & pred_wiki_name) - predict using wiki model (a - last name only and b - full name). Gives: \"Asian,GreaterEastAsian,EastAsian\", \n",
    "\"Asian,GreaterEastAsian,Japanese\", \n",
    "\"Asian,IndianSubContinent\", \n",
    "\"GreaterAfrican,Africans\", \n",
    "\"GreaterAfrican,Muslim\", \n",
    "\"GreaterEuropean,British\",\n",
    "\"GreaterEuropean,EastEuropean\", \n",
    "\"GreaterEuropean,Jewish\",\n",
    "\"GreaterEuropean,WestEuropean,French\", \n",
    "\"GreaterEuropean,WestEuropean,Germanic\",\n",
    "\"GreaterEuropean,WestEuropean,Hispanic\", \n",
    "\"GreaterEuropean,WestEuropean,Italian\",\n",
    "\"GreaterEuropean,WestEuropean,Nordic\".\n",
    "\n"
   ]
  },
  {
   "cell_type": "code",
   "execution_count": 21,
   "id": "66f1e8c7-eafd-4f11-aeca-3f644dd09566",
   "metadata": {},
   "outputs": [],
   "source": [
    "preds2a = np.array([])\n",
    "preds2b = np.array([])\n",
    "for floor in range(0,8900000,100000):\n",
    "    ceil= min(len(df)+1, floor+100000) \n",
    "    preds2a = np.append(preds2a, pred_wiki_ln(df.iloc[floor:ceil,:].copy(), 'LAST_NAME', num_iter = 1)['race'])\n",
    "    preds2b = np.append(preds2b, pred_wiki_name(df.iloc[floor:ceil,:].copy(), 'LAST_NAME', 'FIRST_NAME', num_iter = 1)['race'])\n",
    "    "
   ]
  },
  {
   "cell_type": "code",
   "execution_count": 22,
   "id": "fb5c2197-9bcf-4f54-adad-9768b67fd5e9",
   "metadata": {},
   "outputs": [],
   "source": [
    "# convert verbiage\n",
    "preds2a_alt = reform_wiki(preds2a)\n",
    "preds2b_alt = reform_wiki(preds2b)"
   ]
  },
  {
   "cell_type": "code",
   "execution_count": 23,
   "id": "9fe5b494-ff62-4392-8af3-a5f5bf300f80",
   "metadata": {},
   "outputs": [
    {
     "name": "stdout",
     "output_type": "stream",
     "text": [
      "last name wiki model:\n",
      "Race: AP, Sensitivity: 0.4366, PPV: 0.2752\n",
      "Race: BH, Sensitivity: 0.0203, PPV: 0.3432\n",
      "Race: HP, Sensitivity: 0.5234, PPV: 0.6019\n",
      "Race: WH, Sensitivity: 0.9304, PPV: 0.6076\n",
      "full name wiki model:\n",
      "Race: AP, Sensitivity: 0.5492, PPV: 0.5097\n",
      "Race: BH, Sensitivity: 0.0352, PPV: 0.5171\n",
      "Race: HP, Sensitivity: 0.5114, PPV: 0.5661\n",
      "Race: WH, Sensitivity: 0.9608, PPV: 0.6201\n"
     ]
    }
   ],
   "source": [
    "# get accuracy\n",
    "print('last name wiki model:')\n",
    "results(preds2a_alt, df.RACE)\n",
    "print('full name wiki model:')\n",
    "results(preds2b_alt, df.RACE)"
   ]
  },
  {
   "cell_type": "code",
   "execution_count": 24,
   "id": "3b200acd-c069-42b4-b322-ac94070c579b",
   "metadata": {},
   "outputs": [],
   "source": [
    "preds['et_wiki_surname'] = preds2a_alt\n",
    "preds['et_wiki_full'] = preds2b_alt"
   ]
  },
  {
   "cell_type": "markdown",
   "id": "04d0985b-6db5-43cb-a99f-6bf1471d549a",
   "metadata": {},
   "source": [
    "3. Florida models (pred_fl_reg_name, pred_fl_reg_name_five_cat) - full name, full name + other category.\n",
    "First gives ['asian', 'hispanic', 'nh_black', 'nh_white']\n",
    "Second gives ['asian', 'hispanic', 'nh_black', 'nh_white', 'other']"
   ]
  },
  {
   "cell_type": "code",
   "execution_count": 27,
   "id": "febdfadb-6f1c-4217-b084-dd1fae0e15e3",
   "metadata": {},
   "outputs": [
    {
     "name": "stdout",
     "output_type": "stream",
     "text": [
      "ERROR:tensorflow:==================================\n",
      "Object was never used (type <class 'tensorflow.python.ops.tensor_array_ops.TensorArray'>):\n",
      "<tensorflow.python.ops.tensor_array_ops.TensorArray object at 0x7fc85c2e8b80>\n",
      "If you want to mark it as used call its \"mark_used()\" method.\n",
      "It was originally created here:\n",
      "  File \"/Users/chrisiyer/opt/anaconda3/envs/alc/lib/python3.10/site-packages/keras/backend.py\", line 5132, in <genexpr>\n",
      "    output_ta_t = tuple(  File \"/Users/chrisiyer/opt/anaconda3/envs/alc/lib/python3.10/site-packages/tensorflow/python/util/tf_should_use.py\", line 243, in wrapped\n",
      "    return _add_should_use_warning(fn(*args, **kwargs),\n",
      "==================================\n"
     ]
    }
   ],
   "source": [
    "preds3a = np.array([])\n",
    "preds3b = np.array([])\n",
    "for floor in range(0,8900000,100000):\n",
    "    ceil= min(len(df)+1, floor+100000) \n",
    "    preds3a = np.append(preds3a, pred_fl_reg_name(df.iloc[floor:ceil,:].copy(), 'LAST_NAME', 'FIRST_NAME', num_iter = 1)['race'])\n",
    "    preds3b = np.append(preds3b, pred_fl_reg_name_five_cat(df.iloc[floor:ceil,:].copy(), 'LAST_NAME', 'FIRST_NAME', num_iter = 1)['race'])\n",
    "    "
   ]
  },
  {
   "cell_type": "code",
   "execution_count": 28,
   "id": "dd11cb6a-f0a8-4ed8-82f3-40b5b668643f",
   "metadata": {},
   "outputs": [],
   "source": [
    "# convert verbiage\n",
    "preds3a_alt = reform_fl(preds3a)\n",
    "preds3b_alt = reform_fl(preds3b)"
   ]
  },
  {
   "cell_type": "code",
   "execution_count": 29,
   "id": "e4cf372d-2faa-4b5b-a14c-02fac2080afa",
   "metadata": {},
   "outputs": [
    {
     "name": "stdout",
     "output_type": "stream",
     "text": [
      "full name FL model:\n",
      "Race: AP, Sensitivity: 0.5938, PPV: 0.8605\n",
      "Race: BH, Sensitivity: 0.4169, PPV: 0.8451\n",
      "Race: HP, Sensitivity: 0.8109, PPV: 0.6747\n",
      "Race: WH, Sensitivity: 0.9423, PPV: 0.724\n",
      "full name FL model with \"other\" category:\n",
      "Race: AP, Sensitivity: 0.8115, PPV: 0.5517\n",
      "Race: BH, Sensitivity: 0.7189, PPV: 0.6272\n",
      "Race: HP, Sensitivity: 0.8139, PPV: 0.6584\n",
      "Race: WH, Sensitivity: 0.7006, PPV: 0.8309\n"
     ]
    }
   ],
   "source": [
    "# get accuracy\n",
    "print('full name FL model:')\n",
    "results(preds3a_alt, df.RACE)\n",
    "print('full name FL model with \"other\" category:')\n",
    "results(preds3b_alt, df.RACE)"
   ]
  },
  {
   "cell_type": "code",
   "execution_count": 30,
   "id": "388d383d-6a1c-4516-881c-bf5aa241cb63",
   "metadata": {},
   "outputs": [],
   "source": [
    "preds['et_fl'] = preds3a_alt\n",
    "preds['et_fl_other'] = preds3b_alt"
   ]
  },
  {
   "cell_type": "markdown",
   "id": "cb1436ed-edf7-4fa6-baee-a6f140e50a9b",
   "metadata": {},
   "source": [
    "4. North Carolina model (pred_nc_reg_name) - full name"
   ]
  },
  {
   "cell_type": "code",
   "execution_count": 31,
   "id": "bd66be99-7446-44c4-b35e-dd8f7a034ad7",
   "metadata": {},
   "outputs": [],
   "source": [
    "preds4 = np.array([])\n",
    "for floor in range(0,8900000,100000):\n",
    "    ceil= min(len(df)+1, floor+100000) \n",
    "    preds4 = np.append(preds4, pred_nc_reg_name(df.iloc[floor:ceil,:].copy(), 'LAST_NAME', 'FIRST_NAME', num_iter = 1)['race'])\n",
    "    "
   ]
  },
  {
   "cell_type": "code",
   "execution_count": 32,
   "id": "6ac471b1-35d3-433a-b96b-692338764de9",
   "metadata": {},
   "outputs": [],
   "source": [
    "# convert verbiage\n",
    "preds4_alt = reform_nc(preds4)\n",
    "preds4_alt2 = reform_nc2(preds4)"
   ]
  },
  {
   "cell_type": "code",
   "execution_count": 33,
   "id": "1daaeff6-bf93-4b65-b961-0cbb8077ca00",
   "metadata": {},
   "outputs": [
    {
     "name": "stdout",
     "output_type": "stream",
     "text": [
      "full name NC model (version 1):\n",
      "Race: AI, Sensitivity: 0.0892, PPV: 0.0044\n",
      "Race: AP, Sensitivity: 0.5643, PPV: 0.2864\n",
      "Race: BH, Sensitivity: 0.3818, PPV: 0.5563\n",
      "Race: HP, Sensitivity: 0.7988, PPV: 0.2366\n",
      "Race: WH, Sensitivity: 0.3866, PPV: 0.7614\n",
      "full name NC model (version 2):\n",
      "Race: AI, Sensitivity: 0.0908, PPV: 0.0044\n",
      "Race: AP, Sensitivity: 0.5664, PPV: 0.2837\n",
      "Race: BH, Sensitivity: 0.4159, PPV: 0.5536\n",
      "Race: WH, Sensitivity: 0.4442, PPV: 0.7319\n"
     ]
    }
   ],
   "source": [
    "# get accuracy\n",
    "print('full name NC model (version 1):')\n",
    "results(preds4_alt, df.RACE)\n",
    "# get accuracy\n",
    "print('full name NC model (version 2):')\n",
    "results(preds4_alt2, df.RACE)"
   ]
  },
  {
   "cell_type": "code",
   "execution_count": 35,
   "id": "9c4a4e1f-0ccc-4d1a-933d-88bdd580f927",
   "metadata": {},
   "outputs": [],
   "source": [
    "preds['et_nc_1'] = preds4_alt\n",
    "preds['et_nc_2'] = preds4_alt2"
   ]
  },
  {
   "cell_type": "code",
   "execution_count": 36,
   "id": "c6029096-6ca4-4b25-be51-0b8e74379be1",
   "metadata": {},
   "outputs": [
    {
     "data": {
      "text/html": [
       "<div>\n",
       "<style scoped>\n",
       "    .dataframe tbody tr th:only-of-type {\n",
       "        vertical-align: middle;\n",
       "    }\n",
       "\n",
       "    .dataframe tbody tr th {\n",
       "        vertical-align: top;\n",
       "    }\n",
       "\n",
       "    .dataframe thead th {\n",
       "        text-align: right;\n",
       "    }\n",
       "</style>\n",
       "<table border=\"1\" class=\"dataframe\">\n",
       "  <thead>\n",
       "    <tr style=\"text-align: right;\">\n",
       "      <th></th>\n",
       "      <th>pr_surname</th>\n",
       "      <th>pr_firstname</th>\n",
       "      <th>pr_avg</th>\n",
       "      <th>wru_surname</th>\n",
       "      <th>et_census_2000</th>\n",
       "      <th>et_census_2010</th>\n",
       "      <th>et_wiki_surname</th>\n",
       "      <th>et_wiki_full</th>\n",
       "      <th>et_fl</th>\n",
       "      <th>et_fl_other</th>\n",
       "      <th>et_nc_1</th>\n",
       "      <th>et_nc_2</th>\n",
       "    </tr>\n",
       "  </thead>\n",
       "  <tbody>\n",
       "    <tr>\n",
       "      <th>0</th>\n",
       "      <td>WH</td>\n",
       "      <td>OT</td>\n",
       "      <td>WH</td>\n",
       "      <td>WH</td>\n",
       "      <td>WH</td>\n",
       "      <td>WH</td>\n",
       "      <td>WH</td>\n",
       "      <td>WH</td>\n",
       "      <td>WH</td>\n",
       "      <td>AP</td>\n",
       "      <td>BH</td>\n",
       "      <td>BH</td>\n",
       "    </tr>\n",
       "    <tr>\n",
       "      <th>1</th>\n",
       "      <td>WH</td>\n",
       "      <td>WH</td>\n",
       "      <td>WH</td>\n",
       "      <td>WH</td>\n",
       "      <td>WH</td>\n",
       "      <td>WH</td>\n",
       "      <td>WH</td>\n",
       "      <td>WH</td>\n",
       "      <td>WH</td>\n",
       "      <td>WH</td>\n",
       "      <td>WH</td>\n",
       "      <td>WH</td>\n",
       "    </tr>\n",
       "    <tr>\n",
       "      <th>2</th>\n",
       "      <td>WH</td>\n",
       "      <td>OT</td>\n",
       "      <td>WH</td>\n",
       "      <td>WH</td>\n",
       "      <td>WH</td>\n",
       "      <td>WH</td>\n",
       "      <td>WH</td>\n",
       "      <td>WH</td>\n",
       "      <td>WH</td>\n",
       "      <td>BH</td>\n",
       "      <td>BH</td>\n",
       "      <td>BH</td>\n",
       "    </tr>\n",
       "    <tr>\n",
       "      <th>3</th>\n",
       "      <td>BH</td>\n",
       "      <td>WH</td>\n",
       "      <td>WH</td>\n",
       "      <td>BH</td>\n",
       "      <td>WH</td>\n",
       "      <td>WH</td>\n",
       "      <td>WH</td>\n",
       "      <td>WH</td>\n",
       "      <td>BH</td>\n",
       "      <td>BH</td>\n",
       "      <td>WH</td>\n",
       "      <td>WH</td>\n",
       "    </tr>\n",
       "    <tr>\n",
       "      <th>4</th>\n",
       "      <td>WH</td>\n",
       "      <td>WH</td>\n",
       "      <td>WH</td>\n",
       "      <td>WH</td>\n",
       "      <td>WH</td>\n",
       "      <td>WH</td>\n",
       "      <td>WH</td>\n",
       "      <td>WH</td>\n",
       "      <td>WH</td>\n",
       "      <td>BH</td>\n",
       "      <td>WH</td>\n",
       "      <td>WH</td>\n",
       "    </tr>\n",
       "    <tr>\n",
       "      <th>...</th>\n",
       "      <td>...</td>\n",
       "      <td>...</td>\n",
       "      <td>...</td>\n",
       "      <td>...</td>\n",
       "      <td>...</td>\n",
       "      <td>...</td>\n",
       "      <td>...</td>\n",
       "      <td>...</td>\n",
       "      <td>...</td>\n",
       "      <td>...</td>\n",
       "      <td>...</td>\n",
       "      <td>...</td>\n",
       "    </tr>\n",
       "    <tr>\n",
       "      <th>8864087</th>\n",
       "      <td>WH</td>\n",
       "      <td>OT</td>\n",
       "      <td>WH</td>\n",
       "      <td>WH</td>\n",
       "      <td>WH</td>\n",
       "      <td>WH</td>\n",
       "      <td>WH</td>\n",
       "      <td>WH</td>\n",
       "      <td>WH</td>\n",
       "      <td>WH</td>\n",
       "      <td>WH</td>\n",
       "      <td>WH</td>\n",
       "    </tr>\n",
       "    <tr>\n",
       "      <th>8864088</th>\n",
       "      <td>WH</td>\n",
       "      <td>WH</td>\n",
       "      <td>WH</td>\n",
       "      <td>WH</td>\n",
       "      <td>WH</td>\n",
       "      <td>WH</td>\n",
       "      <td>WH</td>\n",
       "      <td>WH</td>\n",
       "      <td>WH</td>\n",
       "      <td>OT</td>\n",
       "      <td>BH</td>\n",
       "      <td>BH</td>\n",
       "    </tr>\n",
       "    <tr>\n",
       "      <th>8864089</th>\n",
       "      <td>WH</td>\n",
       "      <td>WH</td>\n",
       "      <td>WH</td>\n",
       "      <td>WH</td>\n",
       "      <td>WH</td>\n",
       "      <td>WH</td>\n",
       "      <td>WH</td>\n",
       "      <td>WH</td>\n",
       "      <td>WH</td>\n",
       "      <td>WH</td>\n",
       "      <td>WH</td>\n",
       "      <td>WH</td>\n",
       "    </tr>\n",
       "    <tr>\n",
       "      <th>8864090</th>\n",
       "      <td>OT</td>\n",
       "      <td>WH</td>\n",
       "      <td>WH</td>\n",
       "      <td>WH</td>\n",
       "      <td>WH</td>\n",
       "      <td>WH</td>\n",
       "      <td>WH</td>\n",
       "      <td>WH</td>\n",
       "      <td>WH</td>\n",
       "      <td>BH</td>\n",
       "      <td>WH</td>\n",
       "      <td>WH</td>\n",
       "    </tr>\n",
       "    <tr>\n",
       "      <th>8864091</th>\n",
       "      <td>WH</td>\n",
       "      <td>WH</td>\n",
       "      <td>WH</td>\n",
       "      <td>WH</td>\n",
       "      <td>WH</td>\n",
       "      <td>WH</td>\n",
       "      <td>WH</td>\n",
       "      <td>WH</td>\n",
       "      <td>WH</td>\n",
       "      <td>WH</td>\n",
       "      <td>AI</td>\n",
       "      <td>AI</td>\n",
       "    </tr>\n",
       "  </tbody>\n",
       "</table>\n",
       "<p>8864092 rows × 12 columns</p>\n",
       "</div>"
      ],
      "text/plain": [
       "        pr_surname pr_firstname pr_avg wru_surname et_census_2000  \\\n",
       "0               WH           OT     WH          WH             WH   \n",
       "1               WH           WH     WH          WH             WH   \n",
       "2               WH           OT     WH          WH             WH   \n",
       "3               BH           WH     WH          BH             WH   \n",
       "4               WH           WH     WH          WH             WH   \n",
       "...            ...          ...    ...         ...            ...   \n",
       "8864087         WH           OT     WH          WH             WH   \n",
       "8864088         WH           WH     WH          WH             WH   \n",
       "8864089         WH           WH     WH          WH             WH   \n",
       "8864090         OT           WH     WH          WH             WH   \n",
       "8864091         WH           WH     WH          WH             WH   \n",
       "\n",
       "        et_census_2010 et_wiki_surname et_wiki_full et_fl et_fl_other et_nc_1  \\\n",
       "0                   WH              WH           WH    WH          AP      BH   \n",
       "1                   WH              WH           WH    WH          WH      WH   \n",
       "2                   WH              WH           WH    WH          BH      BH   \n",
       "3                   WH              WH           WH    BH          BH      WH   \n",
       "4                   WH              WH           WH    WH          BH      WH   \n",
       "...                ...             ...          ...   ...         ...     ...   \n",
       "8864087             WH              WH           WH    WH          WH      WH   \n",
       "8864088             WH              WH           WH    WH          OT      BH   \n",
       "8864089             WH              WH           WH    WH          WH      WH   \n",
       "8864090             WH              WH           WH    WH          BH      WH   \n",
       "8864091             WH              WH           WH    WH          WH      AI   \n",
       "\n",
       "        et_nc_2  \n",
       "0            BH  \n",
       "1            WH  \n",
       "2            BH  \n",
       "3            WH  \n",
       "4            WH  \n",
       "...         ...  \n",
       "8864087      WH  \n",
       "8864088      BH  \n",
       "8864089      WH  \n",
       "8864090      WH  \n",
       "8864091      AI  \n",
       "\n",
       "[8864092 rows x 12 columns]"
      ]
     },
     "execution_count": 36,
     "metadata": {},
     "output_type": "execute_result"
    }
   ],
   "source": [
    "preds"
   ]
  },
  {
   "cell_type": "code",
   "execution_count": 38,
   "id": "cbe38700-24c4-4ecb-8193-95a5b149c7e6",
   "metadata": {},
   "outputs": [],
   "source": [
    "preds.to_csv(fpath + 'GA_predictions.csv')"
   ]
  },
  {
   "cell_type": "code",
   "execution_count": null,
   "id": "8f554066-a43b-4ea8-ab2a-2b9e9816c918",
   "metadata": {},
   "outputs": [],
   "source": []
  }
 ],
 "metadata": {
  "kernelspec": {
   "display_name": "alc_kernel",
   "language": "python",
   "name": "alc_kernel"
  },
  "language_info": {
   "codemirror_mode": {
    "name": "ipython",
    "version": 3
   },
   "file_extension": ".py",
   "mimetype": "text/x-python",
   "name": "python",
   "nbconvert_exporter": "python",
   "pygments_lexer": "ipython3",
   "version": "3.10.8"
  },
  "toc-autonumbering": false
 },
 "nbformat": 4,
 "nbformat_minor": 5
}
